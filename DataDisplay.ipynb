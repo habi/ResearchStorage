{
 "cells": [
  {
   "cell_type": "code",
   "execution_count": 1,
   "metadata": {},
   "outputs": [],
   "source": [
    "import pandas"
   ]
  },
  {
   "cell_type": "code",
   "execution_count": 2,
   "metadata": {},
   "outputs": [],
   "source": [
    "Data = pandas.read_pickle('ConsistencyCheck.pkl')"
   ]
  },
  {
   "cell_type": "code",
   "execution_count": 3,
   "metadata": {},
   "outputs": [
    {
     "data": {
      "text/html": [
       "<div>\n",
       "<style scoped>\n",
       "    .dataframe tbody tr th:only-of-type {\n",
       "        vertical-align: middle;\n",
       "    }\n",
       "\n",
       "    .dataframe tbody tr th {\n",
       "        vertical-align: top;\n",
       "    }\n",
       "\n",
       "    .dataframe thead th {\n",
       "        text-align: right;\n",
       "    }\n",
       "</style>\n",
       "<table border=\"1\" class=\"dataframe\">\n",
       "  <thead>\n",
       "    <tr style=\"text-align: right;\">\n",
       "      <th></th>\n",
       "      <th>LogFile</th>\n",
       "      <th>Folder</th>\n",
       "      <th>LastFolder</th>\n",
       "      <th>NumProjFromLog</th>\n",
       "      <th>NumProjFromDirectory</th>\n",
       "      <th>Machine</th>\n",
       "      <th>ScanDate</th>\n",
       "      <th>SameSame</th>\n",
       "      <th>Difference</th>\n",
       "      <th>CheckedTIFFs</th>\n",
       "      <th>CheckedGood</th>\n",
       "      <th>CheckConnected</th>\n",
       "    </tr>\n",
       "  </thead>\n",
       "  <tbody>\n",
       "    <tr>\n",
       "      <th>0</th>\n",
       "      <td>R://Archiv_Tape\\Neda\\control01_lumbar_1_32um_5...</td>\n",
       "      <td>R://Archiv_Tape\\Neda\\control01_lumbar_1_32um_5...</td>\n",
       "      <td>proj</td>\n",
       "      <td>1947</td>\n",
       "      <td>0</td>\n",
       "      <td>Skyscan1172</td>\n",
       "      <td>2019-04-25 01:26:36</td>\n",
       "      <td>False</td>\n",
       "      <td>1947</td>\n",
       "      <td>None</td>\n",
       "      <td>None</td>\n",
       "      <td>Connected</td>\n",
       "    </tr>\n",
       "    <tr>\n",
       "      <th>1</th>\n",
       "      <td>R://Archiv_Tape\\Neda\\control01_lumbar_1_32um_5...</td>\n",
       "      <td>R://Archiv_Tape\\Neda\\control01_lumbar_1_32um_5...</td>\n",
       "      <td>proj</td>\n",
       "      <td>1947</td>\n",
       "      <td>1946</td>\n",
       "      <td>Skyscan1172</td>\n",
       "      <td>2019-04-24 04:36:27</td>\n",
       "      <td>False</td>\n",
       "      <td>1</td>\n",
       "      <td>[R://Archiv_Tape\\Neda\\control01_lumbar_1_32um_...</td>\n",
       "      <td>[True, True, True, True, True, True, True, Tru...</td>\n",
       "      <td>1946</td>\n",
       "    </tr>\n",
       "    <tr>\n",
       "      <th>2</th>\n",
       "      <td>R://Archiv_Tape\\Neda\\control01_lumbar_1_32um_5...</td>\n",
       "      <td>R://Archiv_Tape\\Neda\\control01_lumbar_1_32um_5...</td>\n",
       "      <td>proj</td>\n",
       "      <td>1947</td>\n",
       "      <td>1946</td>\n",
       "      <td>Skyscan1172</td>\n",
       "      <td>2019-04-24 20:14:05</td>\n",
       "      <td>False</td>\n",
       "      <td>1</td>\n",
       "      <td>[R://Archiv_Tape\\Neda\\control01_lumbar_1_32um_...</td>\n",
       "      <td>[True, True, True, True, True, True, True, Tru...</td>\n",
       "      <td>1946</td>\n",
       "    </tr>\n",
       "    <tr>\n",
       "      <th>3</th>\n",
       "      <td>R://Archiv_Tape\\Neda\\control01_lumbar_1_32um_5...</td>\n",
       "      <td>R://Archiv_Tape\\Neda\\control01_lumbar_1_32um_5...</td>\n",
       "      <td>proj</td>\n",
       "      <td>1947</td>\n",
       "      <td>1946</td>\n",
       "      <td>Skyscan1172</td>\n",
       "      <td>2019-04-24 15:01:31</td>\n",
       "      <td>False</td>\n",
       "      <td>1</td>\n",
       "      <td>[R://Archiv_Tape\\Neda\\control01_lumbar_1_32um_...</td>\n",
       "      <td>[True, True, True, True, True, True, True, Tru...</td>\n",
       "      <td>1946</td>\n",
       "    </tr>\n",
       "    <tr>\n",
       "      <th>4</th>\n",
       "      <td>R://Archiv_Tape\\Neda\\control01_lumbar_1_32um_5...</td>\n",
       "      <td>R://Archiv_Tape\\Neda\\control01_lumbar_1_32um_5...</td>\n",
       "      <td>proj</td>\n",
       "      <td>1947</td>\n",
       "      <td>1946</td>\n",
       "      <td>Skyscan1172</td>\n",
       "      <td>2019-04-25 01:26:36</td>\n",
       "      <td>False</td>\n",
       "      <td>1</td>\n",
       "      <td>[R://Archiv_Tape\\Neda\\control01_lumbar_1_32um_...</td>\n",
       "      <td>[True, True, True, True, True, True, True, Tru...</td>\n",
       "      <td>1946</td>\n",
       "    </tr>\n",
       "  </tbody>\n",
       "</table>\n",
       "</div>"
      ],
      "text/plain": [
       "                                             LogFile  \\\n",
       "0  R://Archiv_Tape\\Neda\\control01_lumbar_1_32um_5...   \n",
       "1  R://Archiv_Tape\\Neda\\control01_lumbar_1_32um_5...   \n",
       "2  R://Archiv_Tape\\Neda\\control01_lumbar_1_32um_5...   \n",
       "3  R://Archiv_Tape\\Neda\\control01_lumbar_1_32um_5...   \n",
       "4  R://Archiv_Tape\\Neda\\control01_lumbar_1_32um_5...   \n",
       "\n",
       "                                              Folder LastFolder  \\\n",
       "0  R://Archiv_Tape\\Neda\\control01_lumbar_1_32um_5...       proj   \n",
       "1  R://Archiv_Tape\\Neda\\control01_lumbar_1_32um_5...       proj   \n",
       "2  R://Archiv_Tape\\Neda\\control01_lumbar_1_32um_5...       proj   \n",
       "3  R://Archiv_Tape\\Neda\\control01_lumbar_1_32um_5...       proj   \n",
       "4  R://Archiv_Tape\\Neda\\control01_lumbar_1_32um_5...       proj   \n",
       "\n",
       "   NumProjFromLog  NumProjFromDirectory      Machine            ScanDate  \\\n",
       "0            1947                     0  Skyscan1172 2019-04-25 01:26:36   \n",
       "1            1947                  1946  Skyscan1172 2019-04-24 04:36:27   \n",
       "2            1947                  1946  Skyscan1172 2019-04-24 20:14:05   \n",
       "3            1947                  1946  Skyscan1172 2019-04-24 15:01:31   \n",
       "4            1947                  1946  Skyscan1172 2019-04-25 01:26:36   \n",
       "\n",
       "   SameSame  Difference                                       CheckedTIFFs  \\\n",
       "0     False        1947                                               None   \n",
       "1     False           1  [R://Archiv_Tape\\Neda\\control01_lumbar_1_32um_...   \n",
       "2     False           1  [R://Archiv_Tape\\Neda\\control01_lumbar_1_32um_...   \n",
       "3     False           1  [R://Archiv_Tape\\Neda\\control01_lumbar_1_32um_...   \n",
       "4     False           1  [R://Archiv_Tape\\Neda\\control01_lumbar_1_32um_...   \n",
       "\n",
       "                                         CheckedGood CheckConnected  \n",
       "0                                               None      Connected  \n",
       "1  [True, True, True, True, True, True, True, Tru...           1946  \n",
       "2  [True, True, True, True, True, True, True, Tru...           1946  \n",
       "3  [True, True, True, True, True, True, True, Tru...           1946  \n",
       "4  [True, True, True, True, True, True, True, Tru...           1946  "
      ]
     },
     "execution_count": 3,
     "metadata": {},
     "output_type": "execute_result"
    }
   ],
   "source": [
    "Data.head()"
   ]
  },
  {
   "cell_type": "code",
   "execution_count": 4,
   "metadata": {},
   "outputs": [],
   "source": [
    "# Save out the dataframe to an Excel sheet, so we can send it to Ruslan and Oleksiy\n",
    "Data.to_excel('ResearchStorageAll.xlsx')"
   ]
  },
  {
   "cell_type": "code",
   "execution_count": 5,
   "metadata": {},
   "outputs": [
    {
     "name": "stdout",
     "output_type": "stream",
     "text": [
      "We need to check 27 folders, where we found an issue\n",
      "The folders to check have been saved to \"ResearchStorageCheckThese.xlsx\"\n"
     ]
    }
   ],
   "source": [
    "# Save out the dataframe to disk, so we can send it to Ruslan and Oleksiy\n",
    "Data[(Data.CheckConnected!='Connected') &\n",
    "     (Data.Difference > 1) &\n",
    "     (Data.NumProjFromDirectory != 0)].to_excel('ResearchStorageCheckThese.xlsx')\n",
    "print('We need to check %s folders, where we found an issue' % len(Data[(Data.CheckConnected!='Connected') &\n",
    "                                                                        (Data.Difference > 1) &\n",
    "                                                                        (Data.NumProjFromDirectory != 0)]))\n",
    "print('The folders to check have been saved to \"ResearchStorageCheckThese.xlsx\"')"
   ]
  },
  {
   "cell_type": "code",
   "execution_count": 6,
   "metadata": {},
   "outputs": [
    {
     "name": "stdout",
     "output_type": "stream",
     "text": [
      "We need to check 143 folders, where we found no files on disk\n",
      "The folders to check have been saved to \"ResearchStorageEmpty.xlsx\"\n"
     ]
    }
   ],
   "source": [
    "# Save out the dataframe to disk, so we can send it to Ruslan and Oleksiy\n",
    "Data[(Data.CheckConnected!='Connected') & (Data.NumProjFromDirectory == 0)].to_excel('ResearchStorageEmpty.xlsx')\n",
    "print('We need to check %s folders, where we found no files on disk' % len(Data[(Data.CheckConnected!='Connected') & (Data.NumProjFromDirectory == 0)]))\n",
    "print('The folders to check have been saved to \"ResearchStorageEmpty.xlsx\"')"
   ]
  },
  {
   "cell_type": "code",
   "execution_count": 7,
   "metadata": {},
   "outputs": [
    {
     "name": "stdout",
     "output_type": "stream",
     "text": [
      "Out of 3051 log files\n",
      "\t- 446 have no corresponding TIFFs, e.g. were not checked\n",
      "\t- 2605 have (a total of 36821) correponding TIFF files, which all passed our TIFF check\n"
     ]
    }
   ],
   "source": [
    "# How many TIFFs are 'none'-checked, how many are good?\n",
    "print('Out of %s log files' % len(Data))\n",
    "print('\\t- %s have no corresponding TIFFs, e.g. were not checked' % len(Data[(Data.CheckedGood.isna())]))\n",
    "howmanyfolders=0\n",
    "howmanyfiles=0\n",
    "for c, row in Data.iterrows():\n",
    "    if row['CheckedGood']:\n",
    "        if True in row['CheckedGood']:\n",
    "            howmanyfiles+=len(row.CheckedGood)\n",
    "            howmanyfolders+=1\n",
    "print('\\t- %s have (a total of %s) correponding TIFF files, which all passed our TIFF check' % (howmanyfolders, howmanyfiles))"
   ]
  },
  {
   "cell_type": "code",
   "execution_count": 8,
   "metadata": {},
   "outputs": [],
   "source": [
    "# Check if there are any wrong TIFF\n",
    "for c, row in Data.iterrows():\n",
    "    if row['CheckedGood']:\n",
    "        if True in row['CheckedGood']:\n",
    "            pass\n",
    "        else:\n",
    "            print('At least one file failed the check')\n",
    "    else:\n",
    "        pass"
   ]
  },
  {
   "cell_type": "code",
   "execution_count": 9,
   "metadata": {},
   "outputs": [
    {
     "name": "stdout",
     "output_type": "stream",
     "text": [
      "Of *all* the 3349934 TIFF files on disk, we checked 1.099%, e.g. 36821 files\n"
     ]
    }
   ],
   "source": [
    "print('Of *all* the %s TIFF files on disk, we checked %0.3f%%, e.g. %s files' % (Data.NumProjFromDirectory.sum(),\n",
    "                                                                                 howmanyfiles / Data.NumProjFromDirectory.sum() * 100,\n",
    "                                                                                 howmanyfiles))"
   ]
  },
  {
   "cell_type": "code",
   "execution_count": null,
   "metadata": {},
   "outputs": [],
   "source": []
  }
 ],
 "metadata": {
  "kernelspec": {
   "display_name": "Python 3",
   "language": "python",
   "name": "python3"
  },
  "language_info": {
   "codemirror_mode": {
    "name": "ipython",
    "version": 3
   },
   "file_extension": ".py",
   "mimetype": "text/x-python",
   "name": "python",
   "nbconvert_exporter": "python",
   "pygments_lexer": "ipython3",
   "version": "3.6.10"
  }
 },
 "nbformat": 4,
 "nbformat_minor": 4
}
