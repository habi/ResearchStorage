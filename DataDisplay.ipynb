{
 "cells": [
  {
   "cell_type": "code",
   "execution_count": 1,
   "metadata": {},
   "outputs": [],
   "source": [
    "import pandas"
   ]
  },
  {
   "cell_type": "code",
   "execution_count": 2,
   "metadata": {},
   "outputs": [],
   "source": [
    "Data = pandas.read_pickle('ConsistencyCheck.pkl')"
   ]
  },
  {
   "cell_type": "code",
   "execution_count": 3,
   "metadata": {},
   "outputs": [
    {
     "data": {
      "text/html": [
       "<div>\n",
       "<style scoped>\n",
       "    .dataframe tbody tr th:only-of-type {\n",
       "        vertical-align: middle;\n",
       "    }\n",
       "\n",
       "    .dataframe tbody tr th {\n",
       "        vertical-align: top;\n",
       "    }\n",
       "\n",
       "    .dataframe thead th {\n",
       "        text-align: right;\n",
       "    }\n",
       "</style>\n",
       "<table border=\"1\" class=\"dataframe\">\n",
       "  <thead>\n",
       "    <tr style=\"text-align: right;\">\n",
       "      <th></th>\n",
       "      <th>LogFile</th>\n",
       "      <th>Folder</th>\n",
       "      <th>LastFolder</th>\n",
       "      <th>NumProjFromLog</th>\n",
       "      <th>NumProjFromDirectory</th>\n",
       "      <th>Machine</th>\n",
       "      <th>ScanDate</th>\n",
       "      <th>SameSame</th>\n",
       "      <th>Difference</th>\n",
       "      <th>CheckedTIFFs</th>\n",
       "      <th>CheckedGood</th>\n",
       "      <th>CheckConnected</th>\n",
       "    </tr>\n",
       "  </thead>\n",
       "  <tbody>\n",
       "    <tr>\n",
       "      <th>1842</th>\n",
       "      <td>R://Archiv_Tape\\Zebra-Fish\\Zebra-Fish_Overview...</td>\n",
       "      <td>R://Archiv_Tape\\Zebra-Fish\\Zebra-Fish_Overview...</td>\n",
       "      <td>proj</td>\n",
       "      <td>798</td>\n",
       "      <td>797</td>\n",
       "      <td>Skyscan1172</td>\n",
       "      <td>2014-08-15 15:25:57</td>\n",
       "      <td>False</td>\n",
       "      <td>1</td>\n",
       "      <td>[R://Archiv_Tape\\Zebra-Fish\\Zebra-Fish_Overvie...</td>\n",
       "      <td>[True, True, True, True, True, True, True, Tru...</td>\n",
       "      <td>797</td>\n",
       "    </tr>\n",
       "    <tr>\n",
       "      <th>1063</th>\n",
       "      <td>R://Archiv_Tape\\Validation-Hindlimb\\M23\\Maus23...</td>\n",
       "      <td>R://Archiv_Tape\\Validation-Hindlimb\\M23\\Maus23...</td>\n",
       "      <td>Proj</td>\n",
       "      <td>1894</td>\n",
       "      <td>1894</td>\n",
       "      <td>SkyScan1272</td>\n",
       "      <td>2016-02-10 14:01:43</td>\n",
       "      <td>True</td>\n",
       "      <td>0</td>\n",
       "      <td>[R://Archiv_Tape\\Validation-Hindlimb\\M23\\Maus2...</td>\n",
       "      <td>[True, True, True, True, True, True, True, Tru...</td>\n",
       "      <td>1894</td>\n",
       "    </tr>\n",
       "    <tr>\n",
       "      <th>347</th>\n",
       "      <td>R://Archiv_Tape\\Brain-Grenoble\\Brain-Grenoble\\...</td>\n",
       "      <td>R://Archiv_Tape\\Brain-Grenoble\\Brain-Grenoble\\...</td>\n",
       "      <td>proj</td>\n",
       "      <td>798</td>\n",
       "      <td>0</td>\n",
       "      <td>Skyscan1172</td>\n",
       "      <td>2015-02-27 05:56:19</td>\n",
       "      <td>False</td>\n",
       "      <td>798</td>\n",
       "      <td>None</td>\n",
       "      <td>None</td>\n",
       "      <td>Connected</td>\n",
       "    </tr>\n",
       "  </tbody>\n",
       "</table>\n",
       "</div>"
      ],
      "text/plain": [
       "                                                LogFile  \\\n",
       "1842  R://Archiv_Tape\\Zebra-Fish\\Zebra-Fish_Overview...   \n",
       "1063  R://Archiv_Tape\\Validation-Hindlimb\\M23\\Maus23...   \n",
       "347   R://Archiv_Tape\\Brain-Grenoble\\Brain-Grenoble\\...   \n",
       "\n",
       "                                                 Folder LastFolder  \\\n",
       "1842  R://Archiv_Tape\\Zebra-Fish\\Zebra-Fish_Overview...       proj   \n",
       "1063  R://Archiv_Tape\\Validation-Hindlimb\\M23\\Maus23...       Proj   \n",
       "347   R://Archiv_Tape\\Brain-Grenoble\\Brain-Grenoble\\...       proj   \n",
       "\n",
       "      NumProjFromLog  NumProjFromDirectory      Machine            ScanDate  \\\n",
       "1842             798                   797  Skyscan1172 2014-08-15 15:25:57   \n",
       "1063            1894                  1894  SkyScan1272 2016-02-10 14:01:43   \n",
       "347              798                     0  Skyscan1172 2015-02-27 05:56:19   \n",
       "\n",
       "      SameSame  Difference                                       CheckedTIFFs  \\\n",
       "1842     False           1  [R://Archiv_Tape\\Zebra-Fish\\Zebra-Fish_Overvie...   \n",
       "1063      True           0  [R://Archiv_Tape\\Validation-Hindlimb\\M23\\Maus2...   \n",
       "347      False         798                                               None   \n",
       "\n",
       "                                            CheckedGood CheckConnected  \n",
       "1842  [True, True, True, True, True, True, True, Tru...            797  \n",
       "1063  [True, True, True, True, True, True, True, Tru...           1894  \n",
       "347                                                None      Connected  "
      ]
     },
     "execution_count": 3,
     "metadata": {},
     "output_type": "execute_result"
    }
   ],
   "source": [
    "Data.sample(n=3)"
   ]
  },
  {
   "cell_type": "code",
   "execution_count": 4,
   "metadata": {},
   "outputs": [],
   "source": [
    "# Save out the dataframe to an Excel sheet\n",
    "Data.to_excel('ResearchStorageAll.xlsx')"
   ]
  },
  {
   "cell_type": "code",
   "execution_count": 5,
   "metadata": {},
   "outputs": [
    {
     "name": "stdout",
     "output_type": "stream",
     "text": [
      "R://Archiv_Tape\\Helsinki\\Helsinki\\MR3267_2_7um_cu\\proj\n",
      "R://Archiv_Tape\\Helsinki\\Helsinki\\overview\\MR3267_11_6um_cu\\proj\n",
      "R://Archiv_Tape\\Helsinki\\Helsinki\\overview\\MR3267_11_6um_cu\\proj\n",
      "R://Archiv_Tape\\Helsinki\\Helsinki\\RM118_2_7um_cu\\proj\n",
      "R://Archiv_Tape\\Heart Finland 2018\\Heart Finland 2018\\Dry Hearts\\2k_scans\\Heart_2_3_30_um_360_2k\\proj_2\n",
      "R://Archiv_Tape\\Brain-Grenoble\\Brain-Grenoble\\B55_bb_D16T06\\proj\n",
      "R://Archiv_Tape\\Brain-Grenoble\\Brain-Grenoble\\B44-Overview-4-18um\\Proj\n",
      "R://Archiv_Tape\\Carlos\\Carlos\\Kidney_Right_CS1-CS48-2_2-2um\\proj\n",
      "R://Archiv_Tape\\Immunology\\Immunology\\BumannA_496444-6AmbHCHB\\Probe2-3\\proj\n",
      "R://Archiv_Tape\\Immunology\\Immunology\\BumannA_496444-6AmbHCHB\\Probe2\\proj\n",
      "R://Archiv_Tape\\Immunology\\Immunology\\BumannA_496444-6AmbHCHB\\Probe2-2\\proj2\n",
      "R://Archiv_Tape\\Immunology\\Immunology\\BumannA_496444-6AmbHCHB\\Probe2-2\\proj\n",
      "R://Archiv_Tape\\Validation-Hindlimb\\M20\\M20-Soleus-left-0-92um-new\\Proj\n",
      "R://Archiv_Tape\\Gillian-Oxford\\Gillian-Oxford\\Aortas\\X1796_1.92um_48kV_noFilter\\proj\n",
      "R://Archiv_Tape\\Verdiana Lung\\CAF2\\CAF2.18\\proj\n",
      "R://Archiv_Tape\\Verdiana Lung\\CAF2\\CAF2.18\\proj\n",
      "R://Archiv_Tape\\Verdiana Lung\\CAF2\\CAF2.18\\proj\n",
      "R://Archiv_Tape\\Eugenio mice\\Eugenio mice\\c2m8_1_65um_al025\\proj\n",
      "R://Archiv_Tape\\Eugenio mice\\Eugenio mice\\c1m1_1um_nof\\proj\n",
      "R://Archiv_Tape\\Eugenio mice\\Eugenio mice\\c1m1_1um_nof\\proj\n",
      "R://Archiv_Tape\\Eugenio mice\\Eugenio mice\\c1m1_1um_nof\\proj\n",
      "R://Archiv_Tape\\Eugenio mice\\Eugenio mice\\c1m1_1um_nof\\proj\n",
      "R://Archiv_Tape\\Eugenio mice\\Eugenio mice\\c1m1_1um_nof\\proj\n",
      "R://Archiv_Tape\\Zebra-Fish_Matthias\\Swimmer07\\proj\n",
      "R://Archiv_Tape\\Straumann\\228531R_Jaw_Cu1mm_18um_360_\\proj\n",
      "R://Archiv_Tape\\Straumann\\228531R_Jaw_Cu1mm_18um_360_\\proj\n",
      "R://Archiv_Tape\\Straumann\\229919L\\proj\n"
     ]
    }
   ],
   "source": [
    "# Which scans are not connected, have a large difference and are not empty?\n",
    "for c, row in Data[(Data.CheckConnected!='Connected') &\n",
    "                   (Data.Difference > 1) &\n",
    "                   (Data.NumProjFromDirectory != 0)].iterrows():\n",
    "    print(row.Folder)"
   ]
  },
  {
   "cell_type": "code",
   "execution_count": 6,
   "metadata": {},
   "outputs": [
    {
     "name": "stdout",
     "output_type": "stream",
     "text": [
      "We need to check 27 folders, where we found an issue\n",
      "The folders to check have been saved to \"ResearchStorageCheckThese.xlsx\"\n"
     ]
    }
   ],
   "source": [
    "# Save out the not-conneted scans with alarge differences to an Excel sheet\n",
    "Data[(Data.CheckConnected!='Connected') &\n",
    "     (Data.Difference > 1) &\n",
    "     (Data.NumProjFromDirectory != 0)].to_excel('ResearchStorageCheckThese.xlsx')\n",
    "print('We need to check %s folders, where we found an issue' % len(Data[(Data.CheckConnected!='Connected') &\n",
    "                                                                        (Data.Difference > 1) &\n",
    "                                                                        (Data.NumProjFromDirectory != 0)]))\n",
    "print('The folders to check have been saved to \"ResearchStorageCheckThese.xlsx\"')"
   ]
  },
  {
   "cell_type": "code",
   "execution_count": 7,
   "metadata": {},
   "outputs": [
    {
     "name": "stdout",
     "output_type": "stream",
     "text": [
      "We need to check 143 folders, where we found no files on disk\n",
      "The folders to check have been saved to \"ResearchStorageEmpty.xlsx\"\n"
     ]
    }
   ],
   "source": [
    "# Which scans are not part of a connected scan, but empty? Save them to an Excel sheet\n",
    "Data[(Data.CheckConnected!='Connected') & (Data.NumProjFromDirectory == 0)].to_excel('ResearchStorageEmpty.xlsx')\n",
    "print('We need to check %s folders, where we found no files on disk' % len(Data[(Data.CheckConnected!='Connected') & (Data.NumProjFromDirectory == 0)]))\n",
    "print('The folders to check have been saved to \"ResearchStorageEmpty.xlsx\"')"
   ]
  },
  {
   "cell_type": "code",
   "execution_count": 8,
   "metadata": {},
   "outputs": [
    {
     "name": "stdout",
     "output_type": "stream",
     "text": [
      "R://Archiv_Tape\\Dental-Implant\\Dental-Implant\\Dental-Implant_15-007_TO-LP_10um\\proj\\test\n",
      "R://Archiv_Tape\\Helsinki\\Helsinki\\RM54_2_7um_cu\\proj\n",
      "R://Archiv_Tape\\Helsinki\\Helsinki\\overview\\MR3267_11_6um_cu\\proj\n",
      "R://Archiv_Tape\\Helsinki\\Helsinki\\RM125_2_7um_cu\\proj\n",
      "R://Archiv_Tape\\Helsinki\\Helsinki\\RM91_2_7um_cu\\proj\n",
      "R://Archiv_Tape\\Heart Finland 2018\\Heart Finland 2018\\RM91_2_7um_cu\\proj\n",
      "R://Archiv_Tape\\Brain-Grenoble\\Brain-Grenoble\\B53_mrt_D16T06\\proj\n",
      "R://Archiv_Tape\\Brain-Grenoble\\Brain-Grenoble\\B53_mrt_D16T06\\proj\n",
      "R://Archiv_Tape\\Brain-Grenoble\\Brain-Grenoble\\B53_mrt_D16T06\\proj\n",
      "R://Archiv_Tape\\Brain-Grenoble\\Brain-Grenoble\\B14_mrt_D20T20\\proj\n",
      "R://Archiv_Tape\\Brain-Grenoble\\Brain-Grenoble\\B18_mrt_D24T14\\proj\n",
      "R://Archiv_Tape\\Brain-Grenoble\\Brain-Grenoble\\B18_mrt_D24T14\\proj\n",
      "R://Archiv_Tape\\Brain-Grenoble\\Brain-Grenoble\\B18_mrt_D24T14\\proj\n",
      "R://Archiv_Tape\\Brain-Grenoble\\Brain-Grenoble\\B18_mrt_D24T14\\proj\n",
      "R://Archiv_Tape\\Brain-Grenoble\\Brain-Grenoble\\B54_mrt_D16T06\\proj\n",
      "R://Archiv_Tape\\Brain-Grenoble\\Brain-Grenoble\\B54_mrt_D16T06\\proj\n",
      "R://Archiv_Tape\\Brain-Grenoble\\Brain-Grenoble\\B54_mrt_D16T06\\proj\n",
      "R://Archiv_Tape\\Brain-Grenoble\\Brain-Grenoble\\B54_mrt_D16T06\\proj\n",
      "R://Archiv_Tape\\Brain-Grenoble\\Brain-Grenoble\\B03_ctrl_D24T14\\proj\n",
      "R://Archiv_Tape\\Brain-Grenoble\\Brain-Grenoble\\B03_ctrl_D24T14\\proj\n",
      "R://Archiv_Tape\\Brain-Grenoble\\Brain-Grenoble\\B03_ctrl_D24T14\\proj\n",
      "R://Archiv_Tape\\Brain-Grenoble\\Brain-Grenoble\\B03_ctrl_D24T14\\proj\n",
      "R://Archiv_Tape\\Carlos\\Carlos\\Kidney_Right_CS1-CS48-2_2-2um\\proj\n",
      "R://Archiv_Tape\\Immunology\\Immunology\\BumannA_496444-6AmbHCHB\\Probe2-3\\proj\n",
      "R://Archiv_Tape\\Immunology\\Immunology\\BumannA_496444-6AmbHCHB\\Probe2-3\\proj\n",
      "R://Archiv_Tape\\Immunology\\Immunology\\BumannA_496444-6AmbHCHB\\Probe2\\proj\n",
      "R://Archiv_Tape\\Immunology\\Immunology\\BumannA_496444-6AmbHCHB\\Probe2\\proj\n",
      "R://Archiv_Tape\\Immunology\\Immunology\\BumannA_496444-6AmbHCHB\\Probe2\\proj\n",
      "R://Archiv_Tape\\Immunology\\Immunology\\BumannA_496444-6AmbHCHB\\Probe2-2\\proj2\n",
      "R://Archiv_Tape\\Immunology\\Immunology\\BumannA_496444-6AmbHCHB\\Probe2-2\\proj2\n",
      "R://Archiv_Tape\\Immunology\\Immunology\\BumannA_496444-6AmbHCHB\\Probe2-2\\proj\n",
      "R://Archiv_Tape\\Immunology\\Immunology\\BumannA_496444-6AmbHCHB\\Probe2-2\\proj\n",
      "R://Archiv_Tape\\Immunology\\Immunology\\Patient1_Dec_2013\\Proj_CorticalROI_2-5um\\Rec2\\moser_r_corticalroi_2-5um__manual\n",
      "R://Archiv_Tape\\Immunology\\Immunology\\Cadosch_J\\Cadosch_J_3um\\proj\n",
      "R://Archiv_Tape\\Immunology\\Immunology\\Cadosch_J\\Cadosch_J_3um\\proj\n",
      "R://Archiv_Tape\\Immunology\\Immunology\\Cadosch_J\\Cadosch_J_6um\\proj\n",
      "R://Archiv_Tape\\Immunology\\Immunology\\Cadosch_J\\Cadosch_J_6um\\proj\n",
      "R://Archiv_Tape\\Validation-Hindlimb\\M20\\M20-Soleus-left-0-92um-new\\Proj\n",
      "R://Archiv_Tape\\Validation-Hindlimb\\M07\\Plantaris_Fixed_5um\\Proj\n",
      "R://Archiv_Tape\\SCIP-Flap\\SCIP-Flap-Lappen05.1_Scan1\\proj\n",
      "R://Archiv_Tape\\SCIP-Flap\\SCIP-Flap-Lappen05.1_Scan1\\proj\n",
      "R://Archiv_Tape\\SCIP-Flap\\SCIP-Flap-Lappen05.1_Scan1\\proj\n",
      "R://Archiv_Tape\\SCIP-Flap\\SCIP-Flap-Lappen05.1_Scan1\\proj\n",
      "R://Archiv_Tape\\SCIP-Flap\\SCIP-Flap-Lappen05.1_Scan1\\proj\n",
      "R://Archiv_Tape\\SCIP-Flap\\SCIP-Flap-Lappen05.1_Scan1\\proj\n",
      "R://Archiv_Tape\\SCIP-Flap\\SCIP-Flap-Lappen05.1-05.2\\proj\n",
      "R://Archiv_Tape\\SCIP-Flap\\SCIP-Flap-Lappen05.1-05.2\\proj\n",
      "R://Archiv_Tape\\SCIP-Flap\\SCIP-Flap-Lappen05.1-05.2\\proj\n",
      "R://Archiv_Tape\\SCIP-Flap\\SCIP-Flap-Lappen05.1-05.2\\proj\n",
      "R://Archiv_Tape\\SCIP-Flap\\SCIP-Flap-Lappen05.1-05.2\\proj\n",
      "R://Archiv_Tape\\SCIP-Flap\\SCIP-Flap-Lappen05.1-05.2\\proj\n",
      "R://Archiv_Tape\\SCIP-Flap\\SCIP-Flap-Lappen05.1-05.2\\proj\n",
      "R://Archiv_Tape\\Kidney\\Kidney\\Kidney_left_Ctrl_DSem_50kV_NoF_0_59um_VOI_rot_0_1_6fr_\\GLOM03VER04\n",
      "R://Archiv_Tape\\Kidney\\Kidney\\Kidney_left_Ctrl_DSem_50kV_NoF_0_59um_VOI_rot_0_1_6fr_\\glom03ver03\n",
      "R://Archiv_Tape\\Kidney\\Kidney\\Kidney_left_Ctrl_DSem_50kV_NoF_0_59um_VOI_rot_0_1_6fr_\\glom03ver03\n",
      "R://Archiv_Tape\\Kidney\\Kidney\\Kidney_left_Ctrl_DSem_50kV_NoF_0_59um_VOI_rot_0_1_6fr_\\glom03\\VER12\n",
      "R://Archiv_Tape\\Kidney\\Kidney\\Kidney_left_Ctrl_DSem_50kV_NoF_0_59um_VOI_rot_0_1_6fr_\\glom03\\VER12\\CORONAL01\n",
      "R://Archiv_Tape\\Kidney\\Kidney\\Kidney_left_Ctrl_DSem_50kV_NoF_0_59um_VOI_rot_0_1_6fr_\\glom03\\VER12\\CORONAL01\\01\n",
      "R://Archiv_Tape\\Kidney\\Kidney\\Kidney_left_Ctrl_DSem_50kV_NoF_0_59um_VOI_rot_0_1_6fr_\\glom03\\ver13\n",
      "R://Archiv_Tape\\Kidney\\Kidney\\Kidney_left_Ctrl_DSem_50kV_NoF_0_59um_VOI_rot_0_1_6fr_\\glom03\\ver13\\sagital\n",
      "R://Archiv_Tape\\Kidney\\Kidney\\Kidney_left_Ctrl_DSem_50kV_NoF_0_59um_VOI_rot_0_1_6fr_\\glom03\\VER10\n",
      "R://Archiv_Tape\\Kidney\\Kidney\\Kidney_left_Ctrl_DSem_50kV_NoF_0_59um_VOI_rot_0_1_6fr_\\glom03\\VER08\n",
      "R://Archiv_Tape\\Kidney\\Kidney\\Kidney_left_Ctrl_DSem_50kV_NoF_0_59um_VOI_rot_0_1_6fr_\\glom03\\VER05\n",
      "R://Archiv_Tape\\Kidney\\Kidney\\Kidney_left_Ctrl_DSem_50kV_NoF_0_59um_VOI_rot_0_1_6fr_\\glom03\\VER06\n",
      "R://Archiv_Tape\\Kidney\\Kidney\\Kidney_left_Ctrl_DSem_50kV_NoF_0_59um_VOI_rot_0_1_6fr_\\glom03\\VER09\n",
      "R://Archiv_Tape\\Kidney\\Kidney\\Kidney_left_Ctrl_DSem_50kV_NoF_0_59um_VOI_rot_0_1_6fr_\\glom03\\VER07\n",
      "R://Archiv_Tape\\Kidney\\Kidney\\Kidney_left_Ctrl_DSem_50kV_NoF_0_59um_VOI_rot_0_1_6fr_\\glom03\\VER11\n",
      "R://Archiv_Tape\\Zahnmedizin\\ZM-Sample4\\Test\n",
      "R://Archiv_Tape\\Roche\\Mouse_Eyes\n",
      "R://Archiv_Tape\\Knochen Angio\\Knochen Angio\\M4\\Tibia_rechts_MausC4_20Aug2015_1_26um\\proj\n",
      "R://Archiv_Tape\\Knochen Angio\\Knochen Angio\\M4\\Tibia_rechts_MausC4_20Aug2015_1_26um\\proj\n",
      "R://Archiv_Tape\\Knochen Angio\\Knochen Angio\\M4\\Tibia_rechts_MausC4_20Aug2015_1_26um\\proj\n",
      "R://Archiv_Tape\\Knochen Angio\\Knochen Angio\\M4\\Tibia_rechts_MausC4_20Aug2015_1_26um\\proj\n",
      "R://Archiv_Tape\\Knochen Angio\\Knochen Angio\\M4\\Tibia_rechts_MausC4_20Aug2015_No-Filter_1-65um\\proj\n",
      "R://Archiv_Tape\\Knochen Angio\\Knochen Angio\\Tibia_rechts_MausC4_20Aug2015_1_26um\n",
      "R://Archiv_Tape\\Knochen Angio\\Knochen Angio\\Tibia_rechts_MausC4_20Aug2015_1_26um\n",
      "R://Archiv_Tape\\Knochen Angio\\Knochen Angio\\Tibia_rechts_MausC4_20Aug2015_1_26um\n",
      "R://Archiv_Tape\\Knochen Angio\\Knochen Angio\\Tibia_rechts_MausC4_20Aug2015_1_26um\n",
      "R://Archiv_Tape\\Knochen Angio\\Knochen Angio\\Tibia_rechts_MausC4_20Aug2015_No-Filter_1-65um\\proj\n",
      "R://Archiv_Tape\\DKF Lung-Metastasis\\DKF Lung-Metastasis\\Overview\\KP-TNIKWT03\\proj\n",
      "R://Archiv_Tape\\DKF Lung-Metastasis\\DKF Lung-Metastasis\\Overview\\KP-TNIKWT13\\proj\n",
      "R://Archiv_Tape\\DKF Lung-Metastasis\\DKF Lung-Metastasis\\Overview\\Overview\\KP-TNIK--02\\proj\n",
      "R://Archiv_Tape\\DKF Lung-Metastasis\\DKF Lung-Metastasis\\Overview\\Overview\\KP-TNIK--11\\proj\n",
      "R://Archiv_Tape\\DKF Lung-Metastasis\\DKF Lung-Metastasis\\Overview\\Overview\\KP-TNIK--12\\proj\n",
      "R://Archiv_Tape\\DKF Lung-Metastasis\\DKF Lung-Metastasis\\Overview\\Overview\\KP-TNIK--12\\proj\n",
      "R://Archiv_Tape\\DKF Lung-Metastasis\\DKF Lung-Metastasis\\Overview\\Overview\\KP-TNIK--12\\proj\n",
      "R://Archiv_Tape\\DKF Lung-Metastasis\\DKF Lung-Metastasis\\Overview\\Overview\\KP-TNIK--03\\proj\n",
      "R://Archiv_Tape\\DKF Lung-Metastasis\\DKF Lung-Metastasis\\Overview\\Overview\\KP-TNIK--01\\proj\n",
      "R://Archiv_Tape\\DKF Lung-Metastasis\\DKF Lung-Metastasis\\Overview\\KP-TNIK--13\\proj\n",
      "R://Archiv_Tape\\DKF Lung-Metastasis\\DKF Lung-Metastasis\\Overview\\KP-TNIKWT01\\proj\n",
      "R://Archiv_Tape\\DKF Lung-Metastasis\\DKF Lung-Metastasis\\Overview\\KP-TNIKWT11\\proj\n",
      "R://Archiv_Tape\\DKF Lung-Metastasis\\DKF Lung-Metastasis\\Overview\\KP-TNIKWT11\\proj\n",
      "R://Archiv_Tape\\DKF Lung-Metastasis\\DKF Lung-Metastasis\\Overview\\KP-TNIKWT11\\proj\n",
      "R://Archiv_Tape\\DKF Lung-Metastasis\\DKF Lung-Metastasis\\Overview\\KP-TNIKWT12\\proj\n",
      "R://Archiv_Tape\\DKF Lung-Metastasis\\DKF Lung-Metastasis\\HR\\KP-TNIKWT11\\proj\n",
      "R://Archiv_Tape\\Eugenio mice\\Eugenio mice\\c2m8_1_65um_al025\\proj\n",
      "R://Archiv_Tape\\Zebra-Fish_FatContent\n",
      "R://Archiv_Tape\\Israel 2018 Muscles\\Israel 2018 Muscles\\plant_A1_0_72um_nof\\proj\n",
      "R://Archiv_Tape\\Marine melanome\\marine_melanome_d13_crtrl_green_80kv_011cu\\proj\n",
      "R://Archiv_Tape\\Marine melanome\\marine_melanome_d13_crtrl_green_80kv_011cu\\proj\n",
      "R://Archiv_Tape\\Marine melanome\\marine_melanome_d13_crtrl_green_80kv_011cu\\proj\n",
      "R://Archiv_Tape\\Marine melanome\\marine_melanome_d13_crtrl_green_80kv_011cu\\proj\n",
      "R://Archiv_Tape\\eamouse\\eamouse\\eamouse_2xblue_cervical_3.38um_60kV_025Al\\proj\n",
      "R://Archiv_Tape\\Felsenbein Halm\\Felsenbein Halm\\Ganz_Ausgesaugt_10um_Cu0.11mm\n",
      "R://Archiv_Tape\\Felsenbein Halm\\Felsenbein Halm\\Falsenbein_10um_Cu011_oversize\n",
      "R://Archiv_Tape\\Felsenbein Halm\\Felsenbein Halm\\Falsenbein_10um_Cu011_oversize\n",
      "R://Archiv_Tape\\Felsenbein Halm\\Felsenbein Halm\\Falsenbein_10um_Cu011_oversize\n",
      "R://Archiv_Tape\\Felsenbein Halm\\Felsenbein Halm\\Falsenbein_10um_Cu011_oversize\n",
      "R://Archiv_Tape\\Felsenbein Halm\\Felsenbein Halm\\Falsenbein_10um_Cu011_oversize\n",
      "R://Archiv_Tape\\Straumann\\229916L 4th segment\\NonTiff files final\n",
      "R://Archiv_Tape\\Straumann\\229916L 4th segment\\NonTiff files final\n",
      "R://Archiv_Tape\\Straumann\\229916L 4th segment\\NonTiff files final\n",
      "R://Archiv_Tape\\Straumann\\229916L 4th segment\\NonTiff files final\n",
      "R://Archiv_Tape\\Straumann\\229916L 4th segment\\proj\n",
      "R://Archiv_Tape\\Straumann\\Vreni_Jaw_Jul20_AL1mm-Cu02mm_100kV_21um\\proj\n",
      "R://Archiv_Tape\\Straumann\\Vreni_Jaw_Jul20_AL1mm-Cu02mm_100kV_21um\\proj\n",
      "R://Archiv_Tape\\Straumann\\Vreni_Jaw_Jul20_AL1mm-Cu02mm_100kV_21um\\proj\n",
      "R://Archiv_Tape\\Straumann\\Vreni_Jaw_Jul20_AL1mm-Cu02mm_100kV_21um\\proj\n",
      "R://Archiv_Tape\\Straumann\\Vreni_Jaw_Jul20_AL1mm-Cu02mm_100kV_21um\\proj\n",
      "R://Archiv_Tape\\Straumann\\Vreni_Jaw_Jul20_AL1mm-Cu02mm_100kV_21um\\proj\n",
      "R://Archiv_Tape\\Straumann\\229916L_best_Jaw_Cu1mm_18um_360\\proj\n",
      "R://Archiv_Tape\\Straumann\\229916L_best_Jaw_Cu1mm_18um_360\\proj\n",
      "R://Archiv_Tape\\Straumann\\229916L_best_Jaw_Cu1mm_18um_360\\proj\n",
      "R://Archiv_Tape\\Straumann\\229916L_best_Jaw_Cu1mm_18um_360\\proj\n",
      "R://Archiv_Tape\\Straumann\\229916L_best_Jaw_Cu1mm_18um_360\\proj\n",
      "R://Archiv_Tape\\Straumann\\228531R_Jaw_Cu1mm_18um_360_\\proj\n",
      "R://Archiv_Tape\\Straumann\\228531R_Jaw_Cu1mm_18um_360_\\proj\n",
      "R://Archiv_Tape\\Straumann\\229919L\\proj\n",
      "R://Archiv_Tape\\Straumann\\Vreni_Jaw_Jul19_AL1mm-Cu02mm_100kV_9um_OFFSET_\\proj\n",
      "R://Archiv_Tape\\Straumann\\Vreni_Jaw_Jul19_AL1mm-Cu02mm_100kV_9um_OFFSET_\\proj\n",
      "R://Archiv_Tape\\Straumann\\Vreni_Jaw_Jul19_AL1mm-Cu02mm_100kV_9um_OFFSET_\\proj\n",
      "R://Archiv_Tape\\Straumann\\Vreni_Jaw_Jul19_AL1mm-Cu02mm_100kV_9um_OFFSET_\\proj\n",
      "R://Archiv_Tape\\Straumann\\Vreni_Jaw_Jul19_AL1mm-Cu02mm_100kV_9um_OFFSET_\\proj\n",
      "R://Archiv_Tape\\Straumann\\Vreni_Jaw_Jul19_AL1mm-Cu02mm_100kV_9um_OFFSET_\\proj\n",
      "R://Archiv_Tape\\Straumann\\Vreni_Jaw_Jul19_AL1mm-Cu02mm_100kV_9um_OFFSET_\\proj\n",
      "R://Archiv_Tape\\Straumann\\Vreni_Jaw_Jul19_AL1mm-Cu02mm_100kV_9um_OFFSET_\\proj\n",
      "R://Archiv_Tape\\Straumann\\Vreni_Jaw_Jul19_AL1mm-Cu02mm_100kV_9um_OFFSET_\\proj\n",
      "R://Archiv_Tape\\Straumann\\Vreni_Jaw_Jul19_AL1mm-Cu02mm_100kV_9um_OFFSET_\\proj\n",
      "R://Archiv_Tape\\Fumedica\\Fumedica\\AngioFil-Vs-Microfil\\proj\n",
      "R://Archiv_Tape\\Fumedica\\Fumedica\\AngioFil-Vs-Microfil\\proj\n",
      "R://Archiv_Tape\\Liver-Semela\\Liver-Semela\\Liver-CTRL-3-4\\Liver-Semela_CTRL3and4_13-3um\\proj\n",
      "R://Archiv_Tape\\Liver-Semela\\Liver-Semela\\Liver-CTRL-3-4\\Liver-Semela_CTRL3and4_13-3um\\proj\n",
      "R://Archiv_Tape\\Liver-Semela\\Liver-Semela\\Proj\n"
     ]
    }
   ],
   "source": [
    "# Which scans are not connected, have a large difference and are not empty?\n",
    "for c, row in Data[(Data.CheckConnected!='Connected') &\n",
    "                   (Data.NumProjFromDirectory == 0)].iterrows():\n",
    "    print(row.Folder)"
   ]
  },
  {
   "cell_type": "code",
   "execution_count": 9,
   "metadata": {},
   "outputs": [
    {
     "name": "stdout",
     "output_type": "stream",
     "text": [
      "Out of 3051 log files\n",
      "\t- 445 have no corresponding TIFFs, e.g. were not checked\n",
      "\t- 2606 have (a total of 54602) correponding TIFF files, which all passed our TIFF check\n"
     ]
    }
   ],
   "source": [
    "# How many TIFFs are 'none'-checked, how many are good?\n",
    "print('Out of %s log files' % len(Data))\n",
    "print('\\t- %s have no corresponding TIFFs, e.g. were not checked' % len(Data[(Data.CheckedGood.isna())]))\n",
    "howmanyfolders=0\n",
    "howmanyfiles=0\n",
    "for c, row in Data.iterrows():\n",
    "    if row['CheckedGood']:\n",
    "        if True in row['CheckedGood']:\n",
    "            howmanyfiles+=len(row.CheckedGood)\n",
    "            howmanyfolders+=1\n",
    "print('\\t- %s have (a total of %s) correponding TIFF files, which all passed our TIFF check' % (howmanyfolders, howmanyfiles))"
   ]
  },
  {
   "cell_type": "code",
   "execution_count": 10,
   "metadata": {},
   "outputs": [],
   "source": [
    "# Check if there are any wrong TIFF\n",
    "for c, row in Data.iterrows():\n",
    "    if row['CheckedGood']:\n",
    "        if True in row['CheckedGood']:\n",
    "            pass\n",
    "        else:\n",
    "            print('At least one file failed the check')\n",
    "    else:\n",
    "        pass"
   ]
  },
  {
   "cell_type": "code",
   "execution_count": 11,
   "metadata": {},
   "outputs": [
    {
     "name": "stdout",
     "output_type": "stream",
     "text": [
      "Of *all* the 3349934 TIFF files on disk, we checked 1.630%, e.g. 54602 files\n"
     ]
    }
   ],
   "source": [
    "print('Of *all* the %s TIFF files on disk, we checked %0.3f%%, e.g. %s files' % (Data.NumProjFromDirectory.sum(),\n",
    "                                                                                 howmanyfiles / Data.NumProjFromDirectory.sum() * 100,\n",
    "                                                                                 howmanyfiles))"
   ]
  },
  {
   "cell_type": "code",
   "execution_count": null,
   "metadata": {},
   "outputs": [],
   "source": []
  }
 ],
 "metadata": {
  "kernelspec": {
   "display_name": "Python 3",
   "language": "python",
   "name": "python3"
  },
  "language_info": {
   "codemirror_mode": {
    "name": "ipython",
    "version": 3
   },
   "file_extension": ".py",
   "mimetype": "text/x-python",
   "name": "python",
   "nbconvert_exporter": "python",
   "pygments_lexer": "ipython3",
   "version": "3.6.10"
  }
 },
 "nbformat": 4,
 "nbformat_minor": 4
}
